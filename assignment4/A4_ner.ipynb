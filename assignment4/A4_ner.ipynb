{
 "cells": [
  {
   "cell_type": "markdown",
   "metadata": {},
   "source": [
    "## CS310 Natural Language Processing\n",
    "## Assignment 4. Long Short Term Memory (LSTM) Network for Named Entity Recognition (NER)\n",
    "\n",
    "**Total points**: 50 + (10 bonus)\n",
    "\n",
    "In this assignment, you will implement a Long Short Term Memory (LSTM) network for Named Entity Recognition (NER). \n",
    "\n",
    "Re-use the code in Lab 5."
   ]
  },
  {
   "cell_type": "markdown",
   "metadata": {},
   "source": [
    "### 0. Import Necessary Libraries"
   ]
  },
  {
   "cell_type": "code",
   "execution_count": 28,
   "metadata": {},
   "outputs": [],
   "source": [
    "import torch.nn as nn\n",
    "import torch.nn.functional as F\n",
    "import torch.optim as optim\n",
    "import torch\n",
    "from metrics import MetricsHandler\n",
    "from utils import Indexer, get_batch, load_embedding_dict, get_tag_indices_from_scores\n",
    "import matplotlib.pyplot as plt"
   ]
  },
  {
   "cell_type": "markdown",
   "metadata": {},
   "source": [
    "### 1. Data Preprocessing"
   ]
  },
  {
   "cell_type": "code",
   "execution_count": 29,
   "metadata": {},
   "outputs": [],
   "source": [
    "TRAIN_PATH = 'data/train.txt'\n",
    "DEV_PATH = 'data/dev.txt'\n",
    "TEST_PATH = 'data/test.txt'\n",
    "EMBEDDINGS_PATH = 'data/glove.6B.100d.txt' \n",
    "# Download from https://nlp.stanford.edu/data/glove.6B.zip\n",
    "# It includes dimension 50, 100, 200, and 300.\n",
    "\n",
    "def read_ner_data_from_connl(path_to_file):\n",
    "    sentences_words = []\n",
    "    sentences_tags = []\n",
    "    current_words = []\n",
    "    current_tags = []\n",
    "    \n",
    "    with open(path_to_file, \"r\", encoding=\"utf-8\") as file:\n",
    "        for line in file:\n",
    "            line = line.strip()\n",
    "            if not line:  # Blank line indicates end of sentence\n",
    "                if current_words:  # Only add non-empty sentences\n",
    "                    sentences_words.append(current_words)\n",
    "                    sentences_tags.append(current_tags)\n",
    "                current_words = []\n",
    "                current_tags = []\n",
    "                continue\n",
    "            splitted = line.split()\n",
    "            if len(splitted) == 0:\n",
    "                continue\n",
    "            word = splitted[0]\n",
    "            if word == \"-DOCSTART-\":\n",
    "                continue\n",
    "            entity = splitted[-1]\n",
    "            current_words.append(word.lower()) \n",
    "            current_tags.append(entity)\n",
    "    \n",
    "    if current_words:\n",
    "        sentences_words.append(current_words)\n",
    "        sentences_tags.append(current_tags)\n",
    "    \n",
    "    return sentences_words, sentences_tags\n",
    "\n",
    "train_sentences_words, train_sentences_tags = read_ner_data_from_connl(TRAIN_PATH)\n",
    "dev_sentences_words, dev_sentences_tags = read_ner_data_from_connl(DEV_PATH)\n",
    "test_sentences_words, test_sentences_tags = read_ner_data_from_connl(TEST_PATH)\n",
    "\n",
    "# Verify that words and tags are aligned\n",
    "for i, (words, tags) in enumerate(zip(train_sentences_words, train_sentences_tags)):\n",
    "    assert len(words) == len(tags), f\"Mismatch in sentence {i}: {len(words)} words, {len(tags)} tags\""
   ]
  },
  {
   "cell_type": "code",
   "execution_count": 30,
   "metadata": {},
   "outputs": [
    {
     "name": "stdout",
     "output_type": "stream",
     "text": [
      "sizes of indexers from all data:\n",
      "26870 10\n"
     ]
    }
   ],
   "source": [
    "# Build vocabularies for words and tags\n",
    "indexer_words = Indexer([word for sentence in train_sentences_words + dev_sentences_words + test_sentences_words for word in sentence])\n",
    "indexer_tags = Indexer([tag for sentence in train_sentences_tags + dev_sentences_tags + test_sentences_tags for tag in sentence])\n",
    "print('sizes of indexers from all data:')\n",
    "print(len(indexer_words), len(indexer_tags))"
   ]
  },
  {
   "cell_type": "code",
   "execution_count": 33,
   "metadata": {},
   "outputs": [
    {
     "name": "stderr",
     "output_type": "stream",
     "text": [
      "100%|██████████| 400000/400000 [00:24<00:00, 16508.58it/s]\n"
     ]
    },
    {
     "name": "stdout",
     "output_type": "stream",
     "text": [
      "Embedding matrix shape: torch.Size([26870, 100])\n",
      "Vocabulary size: 26870\n"
     ]
    }
   ],
   "source": [
    "# Load pre-trained embeddings\n",
    "embedding_dim = 100\n",
    "embeddings_dict = load_embedding_dict(EMBEDDINGS_PATH)\n",
    "\n",
    "# Create embedding matrix\n",
    "embedding_matrix = torch.zeros((len(indexer_words), embedding_dim))\n",
    "for word, idx in indexer_words.get_element_to_index_dict().items():\n",
    "    if word in embeddings_dict:\n",
    "        embedding_matrix[idx] = torch.tensor(embeddings_dict[word])\n",
    "    else:\n",
    "        embedding_matrix[idx] = torch.randn(embedding_dim)\n",
    "\n",
    "print(\"Embedding matrix shape:\", embedding_matrix.shape)\n",
    "print(\"Vocabulary size:\", len(indexer_words))"
   ]
  },
  {
   "cell_type": "code",
   "execution_count": 34,
   "metadata": {},
   "outputs": [],
   "source": [
    "# Batching with padding\n",
    "def get_batch_padded(sequences, targets, batch_size):\n",
    "    for i in range(0, len(sequences), batch_size):\n",
    "        batch_seqs = sequences[i:i + batch_size]\n",
    "        batch_targets = targets[i:i + batch_size]\n",
    "        padded_seqs = torch.nn.utils.rnn.pad_sequence(batch_seqs, batch_first=True, padding_value=0)\n",
    "        padded_targets = torch.nn.utils.rnn.pad_sequence(batch_targets, batch_first=True, padding_value=-1)  # Use -1 for ignored targets\n",
    "        yield padded_seqs, padded_targets"
   ]
  },
  {
   "cell_type": "markdown",
   "metadata": {},
   "source": [
    "### 2. Build the Model"
   ]
  },
  {
   "cell_type": "code",
   "execution_count": 35,
   "metadata": {},
   "outputs": [],
   "source": [
    "class LSTMTagger(nn.Module):\n",
    "    def __init__(self, embedding_dim, hidden_dim, vocab_size, tagset_size, num_layers=2, dropout=0.2):\n",
    "        super(LSTMTagger, self).__init__()\n",
    "        self.word_embeddings = nn.Embedding(vocab_size, embedding_dim)\n",
    "        \n",
    "        self.lstm = nn.LSTM(\n",
    "            input_size=embedding_dim,\n",
    "            hidden_size=hidden_dim,\n",
    "            num_layers=num_layers,\n",
    "            bidirectional=True,\n",
    "            dropout=dropout if num_layers > 1 else 0,\n",
    "            batch_first=True\n",
    "        )\n",
    "        \n",
    "        self.fc = nn.Linear(hidden_dim * 2, tagset_size)\n",
    "        self.hidden_dim = hidden_dim\n",
    "        self.num_layers = num_layers\n",
    "\n",
    "    def forward(self, sequence):\n",
    "        embeds = self.word_embeddings(sequence)\n",
    "        lstm_out, _ = self.lstm(embeds)\n",
    "        logits = self.fc(lstm_out)\n",
    "        logprobs = F.log_softmax(logits, dim=-1)\n",
    "        return logprobs"
   ]
  },
  {
   "cell_type": "markdown",
   "metadata": {},
   "source": [
    "### 3. Train and Evaluate"
   ]
  },
  {
   "cell_type": "code",
   "execution_count": 38,
   "metadata": {},
   "outputs": [],
   "source": [
    "labels_str = ['O', 'B-PER', 'I-PER', 'B-ORG', 'I-ORG', 'B-LOC', 'I-LOC']\n",
    "labels_int = list(range(len(labels_str)))\n",
    "\n",
    "def train_model(model, train_loader, dev_loader, test_loader, optimizer, loss_func, train_metrics, dev_metrics, test_metrics, num_epochs=5, device='cpu', batch_size=128, scheduler=None):\n",
    "    model.train()\n",
    "    losses = []\n",
    "    dev_f1_scores = []\n",
    "    \n",
    "    for epoch in range(num_epochs):\n",
    "        running_loss = 0.0\n",
    "        train_metrics.collect()  \n",
    "        \n",
    "        for i, batch in enumerate(train_loader):\n",
    "            optimizer.zero_grad()\n",
    "\n",
    "            inputs, targets = batch\n",
    "            inputs = inputs.to(device)  \n",
    "            targets = targets.to(device)\n",
    "\n",
    "            output = model(inputs) \n",
    "            loss = loss_func(output.view(-1, output.size(-1)), targets.view(-1))\n",
    "            loss.backward()\n",
    "            optimizer.step()\n",
    "\n",
    "            scores = output.view(-1, output.size(-1)).detach().cpu().numpy()\n",
    "\n",
    "            # Get predictions using greedy search\n",
    "            predictions = get_tag_indices_from_scores(scores)\n",
    "            # Flatten predictions and targets for metrics, excluding padding\n",
    "            flat_predictions = []\n",
    "            flat_targets = []\n",
    "            pred_idx = 0  \n",
    "            for i in range(len(targets)):\n",
    "                for j in range(len(targets[i])):\n",
    "                    if targets[i][j].item() != -1:  # Exclude padding\n",
    "                        flat_predictions.append(predictions[pred_idx])\n",
    "                        flat_targets.append(targets[i][j].item())\n",
    "                    pred_idx += 1  \n",
    "            \n",
    "            train_metrics.update(flat_predictions, flat_targets)\n",
    "            running_loss += loss.item() * inputs.size(0)\n",
    "        scheduler.step()\n",
    "        epoch_loss = running_loss / (len(train_loader) * batch_size)\n",
    "        losses.append(epoch_loss)\n",
    "        train_f1 = train_metrics.get_metrics()['F1-score'][-1]\n",
    "        train_f1 = 0.0 if torch.isnan(torch.tensor(train_f1)) else train_f1\n",
    "        print(f\"Epoch {epoch+1}/{num_epochs}, Train Loss: {epoch_loss:.4f}, Train F1-score: {train_f1:.4f}\")\n",
    "\n",
    "        # Evaluate on dev set\n",
    "        model.eval()\n",
    "        dev_metrics.collect() \n",
    "        dev_loss = evaluate_model(model, dev_loader, loss_func, dev_metrics, device=device)\n",
    "        dev_f1 = dev_metrics.get_metrics()['F1-score'][-1]\n",
    "        dev_f1 = 0.0 if torch.isnan(torch.tensor(dev_f1)) else dev_f1\n",
    "        dev_f1_scores.append(dev_f1)\n",
    "        print(f\"Epoch {epoch+1}/{num_epochs}, Dev Loss: {dev_loss:.4f}, Dev F1-score: {dev_f1:.4f}\")\n",
    "\n",
    "        # Evaluate on test set\n",
    "        test_metrics.collect()\n",
    "        test_loss = evaluate_model(model, test_loader, loss_func, test_metrics, device=device)\n",
    "        test_f1 = test_metrics.get_metrics()['F1-score'][-1]\n",
    "        test_f1 = 0.0 if torch.isnan(torch.tensor(test_f1)) else test_f1\n",
    "        print(f\"Epoch {epoch+1}/{num_epochs}, Test Loss: {test_loss:.4f}, Test F1-score: {test_f1:.4f}\")\n",
    "        model.train()  \n",
    "\n",
    "    return model, train_metrics, dev_metrics, test_metrics, losses, dev_f1_scores\n",
    "\n",
    "def evaluate_model(model, data_loader, loss_func, eval_metrics, device='cpu', batch_size=128):\n",
    "    model.eval()\n",
    "    running_loss = 0.0\n",
    "    \n",
    "    with torch.no_grad():\n",
    "        for batch in data_loader:\n",
    "            inputs, targets = batch\n",
    "            inputs = inputs.to(device)  \n",
    "            targets = targets.to(device)\n",
    "\n",
    "            output = model(inputs)\n",
    "            loss = loss_func(output.view(-1, output.size(-1)), targets.view(-1))\n",
    "            scores = output.view(-1, output.size(-1)).detach().cpu().numpy()\n",
    "\n",
    "            # Get predictions using greedy search\n",
    "            predictions = get_tag_indices_from_scores(scores)\n",
    "            # Flatten predictions and targets for metrics, excluding padding\n",
    "            flat_predictions = []\n",
    "            flat_targets = []\n",
    "            pred_idx = 0\n",
    "            for i in range(len(targets)):\n",
    "                for j in range(len(targets[i])):\n",
    "                    if targets[i][j].item() != -1:\n",
    "                        flat_predictions.append(predictions[pred_idx])\n",
    "                        flat_targets.append(targets[i][j].item())\n",
    "                    pred_idx += 1\n",
    "            eval_metrics.update(flat_predictions, flat_targets)\n",
    "            running_loss += loss.item() * inputs.size(0)\n",
    "\n",
    "    avg_loss = running_loss / (len(data_loader) * batch_size)\n",
    "    return avg_loss"
   ]
  },
  {
   "cell_type": "code",
   "execution_count": null,
   "metadata": {},
   "outputs": [
    {
     "name": "stdout",
     "output_type": "stream",
     "text": [
      "Using device: cuda\n"
     ]
    },
    {
     "name": "stderr",
     "output_type": "stream",
     "text": [
      "c:\\Users\\aaron\\Documents\\CS310_NLP\\assignment4\\metrics.py:5: RuntimeWarning: invalid value encountered in scalar divide\n",
      "  return x[1, 1]/(x[1, 1] + x[0, 1])\n",
      "c:\\Users\\aaron\\Documents\\CS310_NLP\\assignment4\\metrics.py:33: RuntimeWarning: Mean of empty slice\n",
      "  self.metrics_dict[metric].append(np.nanmean(values))\n",
      "c:\\Users\\aaron\\Documents\\CS310_NLP\\assignment4\\metrics.py:9: RuntimeWarning: invalid value encountered in scalar divide\n",
      "  return x[1, 1] / (x[1, 0] + x[1, 1])\n"
     ]
    },
    {
     "name": "stdout",
     "output_type": "stream",
     "text": [
      "Epoch 1/10, Train Loss: 2.1531, Train F1-score: 0.0000\n",
      "Epoch 1/10, Dev Loss: 2.0282, Dev F1-score: 0.0000\n",
      "Epoch 1/10, Test Loss: 2.0789, Test F1-score: 0.0000\n"
     ]
    },
    {
     "name": "stderr",
     "output_type": "stream",
     "text": [
      "c:\\Users\\aaron\\Documents\\CS310_NLP\\assignment4\\metrics.py:15: RuntimeWarning: invalid value encountered in scalar divide\n",
      "  return ((1 + beta**2)*precision*recall)/(beta**2 * precision + recall)\n"
     ]
    },
    {
     "name": "stdout",
     "output_type": "stream",
     "text": [
      "Epoch 2/10, Train Loss: 0.9190, Train F1-score: 0.4543\n",
      "Epoch 2/10, Dev Loss: 0.7377, Dev F1-score: 0.9086\n",
      "Epoch 2/10, Test Loss: 0.7639, Test F1-score: 0.9043\n",
      "Epoch 3/10, Train Loss: 0.6492, Train F1-score: 0.9088\n",
      "Epoch 3/10, Dev Loss: 0.5202, Dev F1-score: 0.9086\n",
      "Epoch 3/10, Test Loss: 0.5435, Test F1-score: 0.9043\n",
      "Epoch 4/10, Train Loss: 0.4319, Train F1-score: 0.2176\n",
      "Epoch 4/10, Dev Loss: 0.3246, Dev F1-score: 0.3336\n",
      "Epoch 4/10, Test Loss: 0.3406, Test F1-score: 0.3307\n",
      "Epoch 5/10, Train Loss: 0.2865, Train F1-score: 0.5378\n",
      "Epoch 5/10, Dev Loss: 0.2368, Dev F1-score: 0.7605\n",
      "Epoch 5/10, Test Loss: 0.2496, Test F1-score: 0.6345\n",
      "Epoch 6/10, Train Loss: 0.2229, Train F1-score: 0.7175\n",
      "Epoch 6/10, Dev Loss: 0.1973, Dev F1-score: 0.7701\n",
      "Epoch 6/10, Test Loss: 0.2114, Test F1-score: 0.7721\n",
      "Epoch 7/10, Train Loss: 0.1891, Train F1-score: 0.7939\n",
      "Epoch 7/10, Dev Loss: 0.1713, Dev F1-score: 0.8061\n",
      "Epoch 7/10, Test Loss: 0.1887, Test F1-score: 0.8032\n",
      "Epoch 8/10, Train Loss: 0.1666, Train F1-score: 0.8256\n",
      "Epoch 8/10, Dev Loss: 0.1540, Dev F1-score: 0.8400\n",
      "Epoch 8/10, Test Loss: 0.1740, Test F1-score: 0.8216\n",
      "Epoch 9/10, Train Loss: 0.1504, Train F1-score: 0.8437\n",
      "Epoch 9/10, Dev Loss: 0.1422, Dev F1-score: 0.8599\n",
      "Epoch 9/10, Test Loss: 0.1646, Test F1-score: 0.8319\n",
      "Epoch 10/10, Train Loss: 0.1376, Train F1-score: 0.8585\n",
      "Epoch 10/10, Dev Loss: 0.1339, Dev F1-score: 0.8687\n",
      "Epoch 10/10, Test Loss: 0.1565, Test F1-score: 0.8409\n",
      "\n",
      "Final Test Loss: 0.1565, Test F1-score: 0.8484\n",
      "Model saved to 'lstm.pth'\n",
      "\n",
      "First 5 Dev F1-scores for plotting: [0.0, 0.9085847853803656, 0.908596381253918, 0.33363068720608324, 0.7604718314906269]\n"
     ]
    }
   ],
   "source": [
    "device = torch.device('cuda' if torch.cuda.is_available() else 'cpu')\n",
    "print(f\"Using device: {device}\")\n",
    "\n",
    "batch_size = 128\n",
    "\n",
    "train_sequences = [torch.tensor(indexer_words.elements_to_indices(sentence), dtype=torch.long) for sentence in train_sentences_words]\n",
    "train_targets = [torch.tensor(indexer_tags.elements_to_indices(sentence), dtype=torch.long) for sentence in train_sentences_tags]\n",
    "dev_sequences = [torch.tensor(indexer_words.elements_to_indices(sentence), dtype=torch.long) for sentence in dev_sentences_words]\n",
    "dev_targets = [torch.tensor(indexer_tags.elements_to_indices(sentence), dtype=torch.long) for sentence in dev_sentences_tags]\n",
    "test_sequences = [torch.tensor(indexer_words.elements_to_indices(sentence), dtype=torch.long) for sentence in test_sentences_words]\n",
    "test_targets = [torch.tensor(indexer_tags.elements_to_indices(sentence), dtype=torch.long) for sentence in test_sentences_tags]\n",
    "\n",
    "for i, (seq, tgt) in enumerate(zip(train_sequences, train_targets)):\n",
    "    assert len(seq) == len(tgt), f\"Mismatch in train sequence {i}: {len(seq)} words, {len(tgt)} tags\"\n",
    "\n",
    "train_batches = list(get_batch_padded(train_sequences, train_targets, batch_size))\n",
    "dev_batches = list(get_batch_padded(dev_sequences, dev_targets, batch_size))\n",
    "test_batches = list(get_batch_padded(test_sequences, test_targets, batch_size))\n",
    "\n",
    "train_metrics = MetricsHandler(labels_int)\n",
    "dev_metrics = MetricsHandler(labels_int)\n",
    "test_metrics = MetricsHandler(labels_int)\n",
    "\n",
    "embedding_dim = 100\n",
    "hidden_dim = 128\n",
    "vocab_size = len(indexer_words)\n",
    "tagset_size = len(indexer_tags)\n",
    "\n",
    "model = LSTMTagger(\n",
    "    embedding_dim=embedding_dim,\n",
    "    hidden_dim=hidden_dim,\n",
    "    vocab_size=vocab_size,\n",
    "    tagset_size=tagset_size,\n",
    "    num_layers=2,\n",
    "    dropout=0.3\n",
    ").to(device)\n",
    "\n",
    "model.word_embeddings.weight.data.copy_(embedding_matrix.to(device))\n",
    "model.word_embeddings.weight.requires_grad = False\n",
    "\n",
    "optimizer = optim.Adam(model.parameters(), lr=0.0005, weight_decay=1e-5)\n",
    "loss_func = nn.NLLLoss(ignore_index=-1)\n",
    "\n",
    "# Add warm-up scheduler\n",
    "num_warmup_epochs = 3\n",
    "base_lr = 1e-5\n",
    "target_lr = 0.0005\n",
    "\n",
    "def lr_lambda(epoch):\n",
    "    if epoch < num_warmup_epochs:\n",
    "        return (base_lr + (target_lr - base_lr) * (epoch / num_warmup_epochs)) / target_lr\n",
    "    return 1.0\n",
    "\n",
    "scheduler = optim.lr_scheduler.LambdaLR(optimizer, lr_lambda)\n",
    "\n",
    "num_epochs = 10\n",
    "model, train_metrics, dev_metrics, test_metrics, losses, dev_f1_scores = train_model(\n",
    "    model,\n",
    "    train_loader=train_batches,\n",
    "    dev_loader=dev_batches,\n",
    "    test_loader=test_batches,\n",
    "    optimizer=optimizer,\n",
    "    loss_func=loss_func,\n",
    "    train_metrics=train_metrics,\n",
    "    dev_metrics=dev_metrics,\n",
    "    test_metrics=test_metrics,\n",
    "    num_epochs=num_epochs,\n",
    "    device=device,\n",
    "    batch_size=batch_size,\n",
    "    scheduler=scheduler\n",
    ")\n",
    "\n",
    "# Evaluate on test set\n",
    "model.eval()\n",
    "test_metrics.collect()\n",
    "test_loss = evaluate_model(model, test_batches, loss_func, test_metrics, device=device, batch_size=batch_size)\n",
    "test_f1 = test_metrics.get_metrics()['F1-score'][-1]\n",
    "print(f\"\\nFinal Test Loss: {test_loss:.4f}, Test F1-score: {test_f1:.4f}\")\n",
    "\n",
    "# Save the model\n",
    "torch.save(model.state_dict(), 'lstm.pth')\n",
    "print(\"Model saved to 'lstm.pth'\")\n",
    "\n",
    "print(\"\\nFirst 5 Dev F1-scores:\", dev_f1_scores[:5])\n",
    "\n",
    "'''\n",
    "Epoch 1/10, Train Loss: 2.1531, Train F1-score: 0.0000\n",
    "Epoch 1/10, Dev Loss: 2.0282, Dev F1-score: 0.0000\n",
    "Epoch 1/10, Test Loss: 2.0789, Test F1-score: 0.0000\n",
    "Epoch 2/10, Train Loss: 0.9190, Train F1-score: 0.4543\n",
    "Epoch 2/10, Dev Loss: 0.7377, Dev F1-score: 0.9086\n",
    "Epoch 2/10, Test Loss: 0.7639, Test F1-score: 0.9043\n",
    "Epoch 3/10, Train Loss: 0.6492, Train F1-score: 0.9088\n",
    "Epoch 3/10, Dev Loss: 0.5202, Dev F1-score: 0.9086\n",
    "Epoch 3/10, Test Loss: 0.5435, Test F1-score: 0.9043\n",
    "Epoch 4/10, Train Loss: 0.4319, Train F1-score: 0.2176\n",
    "Epoch 4/10, Dev Loss: 0.3246, Dev F1-score: 0.3336\n",
    "Epoch 4/10, Test Loss: 0.3406, Test F1-score: 0.3307\n",
    "Epoch 5/10, Train Loss: 0.2865, Train F1-score: 0.5378\n",
    "Epoch 5/10, Dev Loss: 0.2368, Dev F1-score: 0.7605\n",
    "Epoch 5/10, Test Loss: 0.2496, Test F1-score: 0.6345\n",
    "Epoch 6/10, Train Loss: 0.2229, Train F1-score: 0.7175\n",
    "Epoch 6/10, Dev Loss: 0.1973, Dev F1-score: 0.7701\n",
    "Epoch 6/10, Test Loss: 0.2114, Test F1-score: 0.7721\n",
    "Epoch 7/10, Train Loss: 0.1891, Train F1-score: 0.7939\n",
    "Epoch 7/10, Dev Loss: 0.1713, Dev F1-score: 0.8061\n",
    "Epoch 7/10, Test Loss: 0.1887, Test F1-score: 0.8032\n",
    "Epoch 8/10, Train Loss: 0.1666, Train F1-score: 0.8256\n",
    "Epoch 8/10, Dev Loss: 0.1540, Dev F1-score: 0.8400\n",
    "Epoch 8/10, Test Loss: 0.1740, Test F1-score: 0.8216\n",
    "Epoch 9/10, Train Loss: 0.1504, Train F1-score: 0.8437\n",
    "Epoch 9/10, Dev Loss: 0.1422, Dev F1-score: 0.8599\n",
    "Epoch 9/10, Test Loss: 0.1646, Test F1-score: 0.8319\n",
    "Epoch 10/10, Train Loss: 0.1376, Train F1-score: 0.8585\n",
    "Epoch 10/10, Dev Loss: 0.1339, Dev F1-score: 0.8687\n",
    "Epoch 10/10, Test Loss: 0.1565, Test F1-score: 0.8409\n",
    "\n",
    "Final Test Loss: 0.1565, Test F1-score: 0.8484\n",
    "'''"
   ]
  },
  {
   "cell_type": "markdown",
   "metadata": {},
   "source": [
    "### 3. Plot Graph"
   ]
  },
  {
   "cell_type": "code",
   "execution_count": 40,
   "metadata": {},
   "outputs": [
    {
     "data": {
      "image/png": "[encoded data removed]",
      "text/plain": [
       "<Figure size 800x600 with 1 Axes>"
      ]
     },
     "metadata": {},
     "output_type": "display_data"
    }
   ],
   "source": [
    "first_5_dev_f1 = dev_f1_scores[:5]\n",
    "epochs = list(range(1, 6))\n",
    "\n",
    "plt.figure(figsize=(8, 6))\n",
    "plt.plot(epochs, first_5_dev_f1, marker='o', linestyle='-', color='b', label='Dev F1-score')\n",
    "plt.title('Dev F1-score Over First 5 Epochs')\n",
    "plt.xlabel('Epoch')\n",
    "plt.ylabel('Dev F1-score')\n",
    "plt.xticks(epochs)\n",
    "plt.grid(True)\n",
    "plt.legend()\n",
    "plt.show()"
   ]
  }
 ],
 "metadata": {
  "kernelspec": {
   "display_name": "py310",
   "language": "python",
   "name": "python3"
  },
  "language_info": {
   "codemirror_mode": {
    "name": "ipython",
    "version": 3
   },
   "file_extension": ".py",
   "mimetype": "text/x-python",
   "name": "python",
   "nbconvert_exporter": "python",
   "pygments_lexer": "ipython3",
   "version": "3.10.14"
  }
 },
 "nbformat": 4,
 "nbformat_minor": 2
}
