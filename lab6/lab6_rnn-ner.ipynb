{
 "cells": [
  {
   "cell_type": "markdown",
   "metadata": {},
   "source": []
  },
  {
   "cell_type": "markdown",
   "metadata": {},
   "source": [
    "## CS310 Natural Language Processing\n",
    "## Lab 6: LSTM for Named Entity Recognition (NER)\n",
    "\n",
    "In this lab, we practice the data and model preparation for using LSTM for the NER task. \n",
    "\n",
    "The dataset is CoNLL2003 English named entity recognition (NER). The dataset is a collection of news articles from Reuters. \n",
    "\n",
    "The dataset is annotated with four types of named entities: \n",
    "`[persons, locations, organizations, miscellaneous]`. (`miscellaneous` does not belong to the previous three types)\n",
    "\n",
    "The dataset is divided into three parts: **training**, **development**, and **testing**. \n"
   ]
  },
  {
   "cell_type": "code",
   "execution_count": 21,
   "metadata": {},
   "outputs": [],
   "source": [
    "from pprint import pprint\n",
    "import torch.nn as nn\n",
    "import torch.nn.functional as F\n",
    "import torch\n",
    "\n",
    "from utils import Indexer, read_ner_data_from_connl, get_batch"
   ]
  },
  {
   "cell_type": "code",
   "execution_count": 22,
   "metadata": {},
   "outputs": [],
   "source": [
    "TRAIN_PATH = 'data/train.txt'\n",
    "DEV_PATH = 'data/dev.txt'\n",
    "TEST_PATH = 'data/test.txt'\n",
    "EMBEDDINGS_PATH = 'data/glove.6B.100d.txt' \n",
    "# Download from https://nlp.stanford.edu/data/glove.6B.zip\n",
    "# It includes dimension 50, 100, 200, and 300."
   ]
  },
  {
   "cell_type": "markdown",
   "metadata": {},
   "source": [
    "The dataset is in the IOB format. \n",
    "The IOB format is a simple text chunking format that divides the text into chunks and assigns a label to each chunk. \n",
    "\n",
    "The label is a combination of two parts: \n",
    "- the type of the named entity\n",
    "- the position of the word in the named entity. \n",
    "\n",
    "The type of the named entity is one of the four types `[persons, locations, organizations, miscellaneous]`. \n",
    "\n",
    "The position of the word in the named entity is one of three positions: `B` (beginning), `I` (inside), and `O` (outside). \n",
    "\n",
    "Examples:\n",
    "- \"New\" in the named entity \"New York\" is labeled as \"B-LOC\", and \"York\" is labeled as \"I-LOC\". \n",
    "- The word \"I\" in the sentence \"I live in New York\" is labeled as \"O\"."
   ]
  },
  {
   "cell_type": "code",
   "execution_count": 23,
   "metadata": {},
   "outputs": [],
   "source": [
    "train_words, train_tags = read_ner_data_from_connl(TRAIN_PATH)\n",
    "dev_words, dev_tags = read_ner_data_from_connl(DEV_PATH)\n",
    "test_words, test_tags = read_ner_data_from_connl(TEST_PATH)"
   ]
  },
  {
   "cell_type": "code",
   "execution_count": 24,
   "metadata": {},
   "outputs": [
    {
     "name": "stdout",
     "output_type": "stream",
     "text": [
      "train words size: 203621\n",
      "dev words size: 51362\n",
      "test words size: 46435\n"
     ]
    }
   ],
   "source": [
    "print('train words size:', len(train_words))\n",
    "print('dev words size:', len(dev_words))\n",
    "print('test words size:', len(test_words))"
   ]
  },
  {
   "cell_type": "code",
   "execution_count": 25,
   "metadata": {},
   "outputs": [
    {
     "name": "stdout",
     "output_type": "stream",
     "text": [
      "['EU', 'rejects', 'German', 'call', 'to', 'boycott', 'British', 'lamb', '.', 'Peter']\n",
      "['B-ORG', 'O', 'B-MISC', 'O', 'O', 'O', 'B-MISC', 'O', 'O', 'B-PER']\n"
     ]
    }
   ],
   "source": [
    "print(train_words[:10])\n",
    "print(train_tags[:10])"
   ]
  },
  {
   "cell_type": "code",
   "execution_count": 26,
   "metadata": {},
   "outputs": [
    {
     "name": "stdout",
     "output_type": "stream",
     "text": [
      "[('EU', 'B-ORG'),\n",
      " ('rejects', 'O'),\n",
      " ('German', 'B-MISC'),\n",
      " ('call', 'O'),\n",
      " ('to', 'O'),\n",
      " ('boycott', 'O'),\n",
      " ('British', 'B-MISC'),\n",
      " ('lamb', 'O'),\n",
      " ('.', 'O'),\n",
      " ('Peter', 'B-PER')]\n"
     ]
    }
   ],
   "source": [
    "pprint(list(zip(train_words[:10], train_tags[:10])))"
   ]
  },
  {
   "cell_type": "markdown",
   "metadata": {},
   "source": [
    "**Note** that each sentence ends with token '.' and tag 'O'. Between sentences there is a blank line.\n",
    "\n",
    "---"
   ]
  },
  {
   "cell_type": "markdown",
   "metadata": {},
   "source": [
    "## T1. Build vocabularies for both words and tags\n",
    "\n",
    "\n",
    "`utils.py` provides an `Indexer` class that can be used to convert words and tags to indices and vice versa."
   ]
  },
  {
   "cell_type": "code",
   "execution_count": 27,
   "metadata": {},
   "outputs": [
    {
     "name": "stdout",
     "output_type": "stream",
     "text": [
      "index of word \"the\": 40\n",
      "index of tag \"O\": 2\n",
      "word with index 0: <UNKNOWN>\n",
      "word with index 100 Fischler\n",
      "tag with index 0: <UNKNOWN>\n",
      "tag with index 1: B-ORG\n"
     ]
    }
   ],
   "source": [
    "indexer_train_words = Indexer(train_words)\n",
    "indexer_train_tags = Indexer(train_tags)\n",
    "\n",
    "# Test\n",
    "print('index of word \"the\":', indexer_train_words.element_to_index('the'))\n",
    "print('index of tag \"O\":', indexer_train_tags.element_to_index('O'))\n",
    "print('word with index 0:', indexer_train_words.index_to_element(0))\n",
    "print('word with index 100', indexer_train_words.index_to_element(100))\n",
    "print('tag with index 0:', indexer_train_tags.index_to_element(0))\n",
    "print('tag with index 1:', indexer_train_tags.index_to_element(1))"
   ]
  },
  {
   "cell_type": "markdown",
   "metadata": {},
   "source": [
    "However, since the train, test, and dev sets are different, we need to build the vocabularies using **ALL** the data."
   ]
  },
  {
   "cell_type": "code",
   "execution_count": 28,
   "metadata": {},
   "outputs": [
    {
     "name": "stdout",
     "output_type": "stream",
     "text": [
      "sizes of indexers from all data:\n",
      "30290 10\n"
     ]
    }
   ],
   "source": [
    "### START YOUR CODE ###\n",
    "indexer_words = Indexer(train_words + dev_words + test_words)\n",
    "indexer_tags = Indexer(train_tags + dev_tags + test_tags)\n",
    "### END YOUR CODE ###\n",
    "\n",
    "# Test\n",
    "print('sizes of indexers from all data:')\n",
    "print(len(indexer_words), len(indexer_tags))\n",
    "\n",
    "# You are expected to see the following output:\n",
    "# sizes of indexers from all data:\n",
    "# 30290 10"
   ]
  },
  {
   "cell_type": "markdown",
   "metadata": {},
   "source": [
    "## T2. Prepare data in batch\n",
    "\n",
    "What it means by a \"batch\" of data is different from Lab 5 (Language Modeling).\n",
    "\n",
    "Because the sequence boundaries are some-what difficult to determine, and the sequences are of varying lengths, for this NER lab, we use a sloppy way to create batches: Simply use a fixed size (`batch_size`) of tokens as a batch. So there is just one long sequence in each batch.\n",
    "\n",
    "`utils.py` provides a `get_batch` function that yields `(words, tags)` in specified batch size."
   ]
  },
  {
   "cell_type": "code",
   "execution_count": 29,
   "metadata": {},
   "outputs": [
    {
     "name": "stdout",
     "output_type": "stream",
     "text": [
      "batches[0] sizes: 128 128\n",
      "batches[1] sizes: 128 128\n"
     ]
    }
   ],
   "source": [
    "batch_size = 128\n",
    "batches = list(get_batch(train_words, train_tags, batch_size))\n",
    "\n",
    "# Test\n",
    "print('batches[0] sizes:', len(batches[0][0]), len(batches[0][1])) \n",
    "print('batches[1] sizes:', len(batches[1][0]), len(batches[1][1]))"
   ]
  },
  {
   "cell_type": "markdown",
   "metadata": {},
   "source": [
    "Use `Indexer.elements_to_indices` to convert words and tags to indices."
   ]
  },
  {
   "cell_type": "code",
   "execution_count": 30,
   "metadata": {},
   "outputs": [
    {
     "name": "stdout",
     "output_type": "stream",
     "text": [
      "sequence_ids[:10] [1, 2, 3, 4, 5, 6, 7, 8, 9, 10]\n",
      "tags_ids[:10] [1, 2, 3, 2, 2, 2, 3, 2, 2, 4]\n"
     ]
    }
   ],
   "source": [
    "sequence, tags = batches[0]\n",
    "\n",
    "### START YOUR CODE ###\n",
    "sequence_ids = indexer_words.elements_to_indices(sequence)\n",
    "tags_ids = indexer_tags.elements_to_indices(tags)\n",
    "### END YOUR CODE ###\n",
    "\n",
    "# Test\n",
    "print('sequence_ids[:10]', sequence_ids[:10])\n",
    "print('tags_ids[:10]', tags_ids[:10])\n",
    "\n",
    "# You are expected to see the following output:\n",
    "# sequence_ids[:10] [1, 2, 3, 4, 5, 6, 7, 8, 9, 10]\n",
    "# tags_ids[:10] [1, 2, 3, 2, 2, 2, 3, 2, 2, 4]"
   ]
  },
  {
   "cell_type": "markdown",
   "metadata": {},
   "source": [
    "## T3. Practice LSTM module\n",
    "\n",
    "Create a LSTM unit that takes input of dimension 3 and produces hidden state of dimension 4."
   ]
  },
  {
   "cell_type": "code",
   "execution_count": 31,
   "metadata": {},
   "outputs": [
    {
     "name": "stdout",
     "output_type": "stream",
     "text": [
      "output size: torch.Size([1, 4])\n",
      "hidden hn size: torch.Size([1, 4])\n",
      "hidden cn size: torch.Size([1, 4])\n",
      "True\n"
     ]
    }
   ],
   "source": [
    "lstm = nn.LSTM(3, 4)\n",
    "\n",
    "# Make a sequence of length 5\n",
    "input_seq = [torch.randn(1, 3) for _ in range(5)]\n",
    "\n",
    "# Initialize hidden state and cell state\n",
    "h0 = torch.randn(1, 4)\n",
    "c0 = torch.randn(1, 4)\n",
    "hidden = (h0, c0)\n",
    "\n",
    "# Run forward pass with a loop\n",
    "for input_t in input_seq:\n",
    "    out, hidden = lstm(input_t, hidden) # Note that the hidden state from the previous time step is used as input for the current time step\n",
    "\n",
    "# Test output\n",
    "print('output size:', out.size())\n",
    "print('hidden hn size:', hidden[0].size())\n",
    "print('hidden cn size:', hidden[1].size())\n",
    "print(torch.equal(out, hidden[0])) # out is just the last hidden state hn"
   ]
  },
  {
   "cell_type": "markdown",
   "metadata": {},
   "source": [
    "The same forward pass can be done with a single call to `lstm`, providing the entire sequence at once."
   ]
  },
  {
   "cell_type": "code",
   "execution_count": 32,
   "metadata": {},
   "outputs": [
    {
     "name": "stdout",
     "output_type": "stream",
     "text": [
      "output size: torch.Size([5, 4])\n",
      "hidden hn size: torch.Size([1, 4])\n",
      "hidden cn size: torch.Size([1, 4])\n",
      "False\n"
     ]
    }
   ],
   "source": [
    "# Make a sequence of length 5 in a single tensor\n",
    "input_seq2 = torch.cat(input_seq, dim=0)\n",
    "\n",
    "# Initialize hidden state and cell state\n",
    "h0 = torch.randn(1, 4)\n",
    "c0 = torch.randn(1, 4)\n",
    "hidden = (h0, c0)\n",
    "\n",
    "# Run forward pass with a single call\n",
    "out, hidden = lstm(input_seq2, hidden)\n",
    "\n",
    "# Test output\n",
    "print('output size:', out.size())\n",
    "print('hidden hn size:', hidden[0].size())\n",
    "print('hidden cn size:', hidden[1].size())\n",
    "\n",
    "print(torch.equal(out, hidden[0])) # this time out != hn"
   ]
  },
  {
   "cell_type": "markdown",
   "metadata": {},
   "source": [
    "Note that this time `out` is a sequence of hidden states for all times steps, not just the last one."
   ]
  },
  {
   "cell_type": "markdown",
   "metadata": {},
   "source": [
    "What about a bi-directional LSTM?"
   ]
  },
  {
   "cell_type": "code",
   "execution_count": 33,
   "metadata": {},
   "outputs": [
    {
     "name": "stdout",
     "output_type": "stream",
     "text": [
      "output size: torch.Size([5, 8])\n",
      "hidden hn size: torch.Size([2, 4])\n",
      "hidden cn size: torch.Size([2, 4])\n"
     ]
    }
   ],
   "source": [
    "bilstm = nn.LSTM(3, 4, bidirectional=True)\n",
    "\n",
    "# Initialize hidden state and cell state\n",
    "h0 = torch.randn(2, 4)\n",
    "c0 = torch.randn(2, 4)\n",
    "hidden = (h0, c0)\n",
    "\n",
    "# Forward pass\n",
    "out, hidden = bilstm(input_seq2, hidden)\n",
    "\n",
    "# Test output\n",
    "print('output size:', out.size())\n",
    "print('hidden hn size:', hidden[0].size())\n",
    "print('hidden cn size:', hidden[1].size())"
   ]
  },
  {
   "cell_type": "markdown",
   "metadata": {},
   "source": [
    "Note that the output size becomes $2\\times4=8$ because the LSTM is bidirectional."
   ]
  },
  {
   "cell_type": "markdown",
   "metadata": {},
   "source": [
    "## T4. Using LSTM for tagging\n",
    "\n",
    "Here we practice using LSTM for tagging tasks (e.g., POS, NER). \n",
    "We will not use advanced architecture like maximum entropy Markov model (MEMM), or advanced decoding strategies such as Viterbi, or beam search decoding.\n",
    "\n",
    "The model is as follows: let the input sentence be\n",
    "$w_1, \\dots, w_M$, where $w_i \\in V$, our vocab. Also, let\n",
    "$T$ be our tag set, and $y_i$ the tag of word $w_i$.\n",
    "\n",
    "\n",
    "Denote our prediction of the tag of word $w_i$ by\n",
    "$\\hat{y}_i$.\n",
    "This is a structure prediction, model, where our output is a sequence\n",
    "$\\hat{y}_1, \\dots, \\hat{y}_M$, where $\\hat{y}_i \\in T$.\n",
    "\n",
    "To do the prediction, pass an LSTM over the sentence. Denote the hidden\n",
    "state at timestep $i$ as $h_i$. Also, assign each tag a\n",
    "unique index. \n",
    "\n",
    "Then our prediction rule for $\\hat{y}_i$ is\n",
    "\n",
    "\\begin{align}\\hat{y}_i = \\text{argmax}_j \\  (\\log \\text{Softmax}(U h_i + b))_j\\end{align}\n",
    "\n",
    "That is, take the log softmax of the transformation of the hidden state $h_i$,\n",
    "and the predicted tag is the tag that has the maximum log probability. \n",
    "\n",
    "Parameters $U$ and $b$ can be implemented as a linear layer."
   ]
  },
  {
   "cell_type": "code",
   "execution_count": 34,
   "metadata": {},
   "outputs": [
    {
     "name": "stdout",
     "output_type": "stream",
     "text": [
      "input_sequence: ['EU', 'rejects', 'German', 'call', 'to', 'boycott', 'British', 'lamb', '.']\n",
      "input_tags: ['B-ORG', 'O', 'B-MISC', 'O', 'O', 'O', 'B-MISC', 'O', 'O']\n"
     ]
    }
   ],
   "source": [
    "EMBEDDING_DIM = 6\n",
    "HIDDEN_DIM = 6\n",
    "VOCAB_SIZE = len(indexer_words)\n",
    "TAGSET_SIZE = len(indexer_tags)\n",
    "\n",
    "input_sequence = train_words[:9]\n",
    "input_tags = train_tags[:9]\n",
    "\n",
    "print('input_sequence:', input_sequence)\n",
    "print('input_tags:', input_tags)"
   ]
  },
  {
   "cell_type": "markdown",
   "metadata": {},
   "source": [
    "Next, create the model.\n",
    "\n",
    "In `__init__` method, initialize `word_embeddings` with a pretrained embedding weight matrix loaded from `glove.6B.100d.txt`.\n",
    "\n",
    "For some advanced variants of model, e.g., maximum entropy Markov model (MEMM), you also need to initialize `tag_embeddings` with a random weight matrix.\n",
    "\n",
    "`forward` method takes the sequence of word indices as input and returns the log probabilities of predicted tags. "
   ]
  },
  {
   "cell_type": "code",
   "execution_count": 35,
   "metadata": {},
   "outputs": [],
   "source": [
    "class LSTMTagger(nn.Module):\n",
    "    def __init__(self, embedding_dim, hidden_dim, vocab_size, tagset_size):\n",
    "        super(LSTMTagger, self).__init__()\n",
    "        ### START YOUR CODE ###\n",
    "        self.word_embeddings = nn.Embedding(vocab_size, embedding_dim)\n",
    "        self.lstm = nn.LSTM(embedding_dim, hidden_dim)\n",
    "        self.fc = nn.Linear(hidden_dim, tagset_size)\n",
    "        ### END YOUR CODE ###\n",
    "\n",
    "    def forward(self, sequence):\n",
    "        ### START YOUR CODE ###\n",
    "        embeds = self.word_embeddings(sequence)\n",
    "        lstm_out, _ = self.lstm(embeds.unsqueeze(1))\n",
    "        logits = self.fc(lstm_out.squeeze(1))\n",
    "        logprobs = F.log_softmax(logits, dim=1)\n",
    "        ### END YOUR CODE ###\n",
    "        return logprobs"
   ]
  },
  {
   "cell_type": "markdown",
   "metadata": {},
   "source": [
    "Initialize the model and test the forward computation."
   ]
  },
  {
   "cell_type": "code",
   "execution_count": 36,
   "metadata": {},
   "outputs": [
    {
     "name": "stdout",
     "output_type": "stream",
     "text": [
      "logprobs shape: torch.Size([9, 10])\n"
     ]
    }
   ],
   "source": [
    "model = LSTMTagger(EMBEDDING_DIM, HIDDEN_DIM, VOCAB_SIZE, TAGSET_SIZE)\n",
    "\n",
    "with torch.no_grad():\n",
    "    ### START YOUR CODE ###\n",
    "    inputs_tensor = torch.tensor(indexer_words.elements_to_indices(input_sequence), dtype=torch.long)\n",
    "    logprobs = model(inputs_tensor)\n",
    "    ### END YOUR CODE ###\n",
    "\n",
    "\n",
    "# Test output\n",
    "print('logprobs shape:', logprobs.shape)\n",
    "# You are expected to see the following:\n",
    "# logprobs shape: torch.Size([9, 10])"
   ]
  },
  {
   "cell_type": "markdown",
   "metadata": {},
   "source": [
    "## T5. Evaluation\n",
    "\n",
    "Evaluation on multiple metrics are needed. Here we practice using the provided `metrices.py` file as a helper. \n",
    "\n",
    "In `metrices.py` there is a `MetricsHandler` class, which has an `update` method that should be called for every batch during training. \n",
    "It also has a `collect` method that should be called after each epoch.  \n",
    "\n",
    "It takes a list of classes (target tags) as input, so we need to specify this arguement properly with the `indexer_tags` object or `TAGSET_SIZE`. "
   ]
  },
  {
   "cell_type": "code",
   "execution_count": 37,
   "metadata": {},
   "outputs": [],
   "source": [
    "from metrics import MetricsHandler\n",
    "\n",
    "train_metrics = MetricsHandler(classes=list(range(TAGSET_SIZE)))\n",
    "val_metrics = MetricsHandler(classes=list(range(TAGSET_SIZE)))"
   ]
  },
  {
   "cell_type": "markdown",
   "metadata": {},
   "source": [
    "Here is an sample segment of training and evaluate code."
   ]
  },
  {
   "cell_type": "code",
   "execution_count": 38,
   "metadata": {},
   "outputs": [],
   "source": [
    "num_epochs = 5\n",
    "\n",
    "def train_loop():\n",
    "    \"\"\"\n",
    "    Training loop\n",
    "    \"\"\"\n",
    "    for epoch in range(num_epochs):\n",
    "        for sequence, tags in batches:\n",
    "            # make prediction\n",
    "            predictions = model(sequence)\n",
    "            train_metrics.update(predictions, tags) # update() method takes the predictions and the ground truth tags as inputs\n",
    "\n",
    "        train_metrics.collect()\n",
    "\n",
    "        # print training metrics\n",
    "        for metric in train_metrics.metrics_dict.keys():\n",
    "                print(f\"{metric} - {train_metrics.metrics_dict[metric][-1]}\")\n",
    "        print()\n",
    "\n",
    "def evaluate_loop():\n",
    "    \"\"\"\n",
    "    Evaluation loop\n",
    "    \"\"\"\n",
    "    val_batches = get_batch(dev_words, dev_tags)\n",
    "    for sequence, tags in val_batches:\n",
    "        # make prediction\n",
    "        predictions = model(sequence)\n",
    "        val_metrics.update(predictions, tags)\n",
    "\n",
    "    val_metrics.collect()\n",
    "\n",
    "    # print validation metrics\n",
    "    for metric in val_metrics.metrics_dict.keys():\n",
    "        print(f\"{metric} - {val_metrics.metrics_dict[metric][-1]}\")\n",
    "    print()"
   ]
  }
 ],
 "metadata": {
  "kernelspec": {
   "display_name": "Python 3",
   "language": "python",
   "name": "python3"
  },
  "language_info": {
   "codemirror_mode": {
    "name": "ipython",
    "version": 3
   },
   "file_extension": ".py",
   "mimetype": "text/x-python",
   "name": "python",
   "nbconvert_exporter": "python",
   "pygments_lexer": "ipython3",
   "version": "3.9.11"
  }
 },
 "nbformat": 4,
 "nbformat_minor": 2
}
