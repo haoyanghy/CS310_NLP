{
 "cells": [
  {
   "cell_type": "markdown",
   "id": "b077cd14",
   "metadata": {},
   "source": [
    "## CS310 Natural Language Processing\n",
    "## Lab 12: Instruction Tuning\n",
    "\n",
    "In this lab, we will explore the data and code framework for the instruction tuning task.\n",
    "\n",
    "First, download the `dataset.zip` file and unzip it to the current directory. The dataset contains `alpaca_data.json` file."
   ]
  },
  {
   "cell_type": "code",
   "execution_count": 2,
   "id": "cfcc15b9",
   "metadata": {},
   "outputs": [],
   "source": [
    "import torch\n",
    "from torch.utils.data import DataLoader\n",
    "from dataclasses import dataclass\n",
    "from typing import Dict, Sequence\n",
    "\n",
    "from transformers import (\n",
    "    AutoModelForCausalLM,\n",
    "    AutoTokenizer,\n",
    "    HfArgumentParser,\n",
    "    PreTrainedTokenizer,\n",
    "    TrainingArguments,\n",
    "    Trainer,\n",
    ")\n",
    "\n",
    "from transformers.hf_argparser import HfArg\n",
    "import json"
   ]
  },
  {
   "cell_type": "markdown",
   "id": "d9029727",
   "metadata": {},
   "source": [
    "The necessary arguments for the experiment."
   ]
  },
  {
   "cell_type": "code",
   "execution_count": 3,
   "id": "d7e61aaf",
   "metadata": {},
   "outputs": [],
   "source": [
    "@dataclass\n",
    "class Arguments(TrainingArguments):\n",
    "    model_name_or_path: str = HfArg(\n",
    "        default = 'llama-7b-tokenizer', # Replace with the path to your model\n",
    "        help=\"The model name or path, e.g., `meta-llama/Llama-2-7b-hf`\",\n",
    "    )\n",
    "\n",
    "    dataset: str = HfArg(\n",
    "        default = 'dataset/alpaca_data.json',\n",
    "        help=\"Setting the names of data file.\",\n",
    "    )\n",
    "\n",
    "    model_max_length: int = HfArg(\n",
    "        default=2048,\n",
    "        help=\"The maximum sequence length\",\n",
    "    )\n",
    "\n",
    "    save_only_model: bool = HfArg(\n",
    "        default=True,\n",
    "        help=\"When checkpointing, whether to only save the model, or also the optimizer, scheduler & rng state.\",\n",
    "    )\n",
    "\n",
    "    bf16: bool = HfArg(\n",
    "        # default=True,\n",
    "        default = False,\n",
    "        help=\"Whether to use bf16 (mixed) precision instead of 32-bit.\",\n",
    "    )\n",
    "\n",
    "    output_dir: str = HfArg(\n",
    "        default=\"output\",\n",
    "        help=\"The output directory where the model predictions and checkpoints will be written.\",\n",
    "    )"
   ]
  },
  {
   "cell_type": "markdown",
   "id": "7a2e1124",
   "metadata": {},
   "source": [
    "We will not actually parse the arguments in this notebook, because it is suppposed to be run as a script.\n",
    "\n",
    "Instead, we create an instance of `Arguments` class for later use."
   ]
  },
  {
   "cell_type": "code",
   "execution_count": 4,
   "id": "398b1d0b",
   "metadata": {},
   "outputs": [
    {
     "name": "stdout",
     "output_type": "stream",
     "text": [
      "llama-7b-tokenizer\n",
      "dataset/alpaca_data.json\n",
      "2048\n"
     ]
    }
   ],
   "source": [
    "args = Arguments()\n",
    "print(args.model_name_or_path)\n",
    "print(args.dataset)\n",
    "print(args.model_max_length)"
   ]
  },
  {
   "cell_type": "markdown",
   "id": "24103813",
   "metadata": {},
   "source": [
    "## T1. Define the SFTDataset class\n",
    "\n",
    "We will then define a wrapper class for the SFT dataset.\n",
    "\n",
    "There two methods you need to implement:\n",
    "- `process()`: Load the dataset and process it into the format required by the model; need to call `encode_src_tgt()` in this method.\n",
    "  - for each example loaded from the dataset, format the `s` string by using `format_template[\"prompt_input\"]` or `format_template[\"prompt_no_input\"]` depending on whether the example has an input or not.\n",
    "  - format the `t` string by taking the `output` field of the example.\n",
    "  - feed `s` and `t` to `encode_src_tgt()` to get the encoded tensors.\n",
    "- `encode_src_tgt()`: Tokenize the input and output, and mark the output position\n",
    "  - Tokenize the `s` string to get the `source_id` by calling `tokenizer.encode()`; remember to truncate it to `self.model_max_length`.\n",
    "  - Tokenize the `s+t` string to get the `input_id`;\n",
    "  - Clone `input_id` to `label`, and mask all the `source_id` positions with `self.IGNORE_INDEX`."
   ]
  },
  {
   "cell_type": "code",
   "execution_count": 5,
   "id": "b515170d",
   "metadata": {},
   "outputs": [],
   "source": [
    "import json\n",
    "\n",
    "\n",
    "class SFTDataset:\n",
    "    IGNORE_INDEX = -100\n",
    "    # 定义指令模板格式\n",
    "    instruction_template = \"\\n### Instruction:\\n\"\n",
    "    response_template = \"\\n### Output:\\n\"\n",
    "    format_template = {\n",
    "        \"prompt_input\": (\n",
    "            \"Below is an instruction that describes a task, paired with an input that provides further context. \" +\n",
    "            \"Write a response that appropriately completes the request.\" + instruction_template + \"{instruction}\" +\n",
    "            \"{input}\" + response_template\n",
    "        ),\n",
    "        \"prompt_no_input\": (\n",
    "            \"Below is an instruction that describes a task. \" +\n",
    "            \"Write a response that appropriately completes the request.\" + instruction_template + \"{instruction}\" +\n",
    "            response_template\n",
    "        ),\n",
    "    }\n",
    "\n",
    "    def __init__(self, args, tokenizer):\n",
    "        self.args = args\n",
    "        self.block_size = self.args.model_max_length\n",
    "        self.tokenizer = tokenizer\n",
    "        self.input_ids, self.labels = self.process(self.tokenizer)\n",
    "\n",
    "    # 数据集长度\n",
    "    def __len__(self):\n",
    "        return len(self.input_ids)\n",
    "\n",
    "    # 获取第 i 条数据\n",
    "    def __getitem__(self, i):\n",
    "        return dict(input_ids=self.input_ids[i], labels=self.labels[i])\n",
    "\n",
    "    # 对输入和输出进行分词并标记输出位置\n",
    "    def encode_src_tgt(self, s, t, tokenizer):\n",
    "        source_id = tokenizer.encode(s, max_length=tokenizer.model_max_length, truncation=True)\n",
    "        tokenizer.add_eos_token = True\n",
    "        input_id = tokenizer.encode(s + t, max_length=tokenizer.model_max_length, truncation=True,\n",
    "                                    return_tensors='pt')[0]\n",
    "        tokenizer.add_eos_token = False\n",
    "        label = input_id.clone()\n",
    "        label[:len(source_id)] = self.IGNORE_INDEX\n",
    "        return input_id, label\n",
    "\n",
    "    # 调用数据集加载、分词、批次化\n",
    "    def process(self, tokenizer):\n",
    "        input_ids = []\n",
    "        labels = []\n",
    "        list_data_dict = json.load(open(self.args.dataset))\n",
    "\n",
    "        for example in list_data_dict:\n",
    "            example['response'] = example.pop('output')\n",
    "            s = self.format_template[\"prompt_input\"].format_map(example) if 'input' in example.keys(\n",
    "            ) else self.format_template[\"prompt_no_input\"].format_map(example)\n",
    "            t = example['response'].strip()\n",
    "            input_id, label = self.encode_src_tgt(s, t, tokenizer)\n",
    "            input_ids.append(input_id)\n",
    "            labels.append(label)\n",
    "        return input_ids, labels"
   ]
  },
  {
   "cell_type": "markdown",
   "id": "b5c899c2",
   "metadata": {},
   "source": [
    "Test the SFTDataset class by printing some examples from the dataset."
   ]
  },
  {
   "cell_type": "code",
   "execution_count": 6,
   "id": "b9657256",
   "metadata": {},
   "outputs": [
    {
     "name": "stderr",
     "output_type": "stream",
     "text": [
      "You are using the default legacy behaviour of the <class 'transformers.models.llama.tokenization_llama.LlamaTokenizer'>. This is expected, and simply means that the `legacy` (previous) behavior will be used so nothing changes for you. If you want to use the new behaviour, set `legacy=False`. This should only be set if you understand what it means, and thoroughly read the reason why this was added as explained in https://github.com/huggingface/transformers/pull/24565 - if you loaded a llama tokenizer from a GGUF file you can ignore this message\n",
      "You are using the default legacy behaviour of the <class 'transformers.models.llama.tokenization_llama_fast.LlamaTokenizerFast'>. This is expected, and simply means that the `legacy` (previous) behavior will be used so nothing changes for you. If you want to use the new behaviour, set `legacy=False`. This should only be set if you understand what it means, and thoroughly read the reason why this was added as explained in https://github.com/huggingface/transformers/pull/24565 - if you loaded a llama tokenizer from a GGUF file you can ignore this message.\n"
     ]
    }
   ],
   "source": [
    "tokenizer = AutoTokenizer.from_pretrained(\n",
    "        args.model_name_or_path,\n",
    "        model_max_length=args.model_max_length,\n",
    "        padding_side=\"right\",\n",
    "        add_eos_token=False,\n",
    "    )\n",
    "\n",
    "# Fix for missing pad_token_id\n",
    "if tokenizer.pad_token_id is None:\n",
    "    tokenizer.pad_token = tokenizer.eos_token\n",
    "    tokenizer.pad_token_id = tokenizer.eos_token_id\n",
    "    \n",
    "dataset = SFTDataset(args, tokenizer) # Takes a few seconds to load"
   ]
  },
  {
   "cell_type": "code",
   "execution_count": 7,
   "id": "221c3371",
   "metadata": {},
   "outputs": [
    {
     "name": "stdout",
     "output_type": "stream",
     "text": [
      "torch.Size([107])\n",
      "torch.Size([107])\n",
      "torch.Size([64])\n",
      "torch.Size([64])\n"
     ]
    }
   ],
   "source": [
    "# print(dataset[0])\n",
    "print(dataset[0]['input_ids'].shape)\n",
    "print(dataset[0]['labels'].shape)\n",
    "\n",
    "print(dataset[1]['input_ids'].shape)\n",
    "print(dataset[1]['labels'].shape)\n",
    "\n",
    "# You expect to see the following output:\n",
    "# torch.Size([107])\n",
    "# torch.Size([107])\n",
    "# torch.Size([64])\n",
    "# torch.Size([64])"
   ]
  },
  {
   "cell_type": "markdown",
   "id": "dd077aa4",
   "metadata": {},
   "source": [
    "You can notice that the different examples are of different lengths. \n",
    "\n",
    "So, we will define a collator class to pad the sequences to the same length.\n",
    "\n",
    "---"
   ]
  },
  {
   "cell_type": "markdown",
   "id": "bfb133b5",
   "metadata": {},
   "source": [
    "## T2. Define the Collator class\n",
    "\n",
    "In the `DataCollatorForSupervisedDataset` class, we will apply the `torch.nn.utils.rnn.pad_sequence` function to the `input_ids` and `labels` sequences.\n",
    "\n",
    "*Hint*: \n",
    "- Using `batch_first=True` \n",
    "- Using `padding_value=self.IGNORE_INDEX`"
   ]
  },
  {
   "cell_type": "code",
   "execution_count": 8,
   "id": "730df714",
   "metadata": {},
   "outputs": [],
   "source": [
    "@dataclass\n",
    "class DataCollatorForSupervisedDataset():\n",
    "    tokenizer: PreTrainedTokenizer\n",
    "    IGNORE_INDEX = -100\n",
    "\n",
    "    def __call__(self, instances: Sequence[Dict]) -> Dict[str, torch.Tensor]:\n",
    "        input_ids, labels = tuple([instance[key] for instance in instances] for key in (\"input_ids\", \"labels\"))\n",
    "        \n",
    "        ### START YOUR CODE ###\n",
    "        # Pad input_ids and labels\n",
    "        input_ids = torch.nn.utils.rnn.pad_sequence(\n",
    "            input_ids, batch_first=True, padding_value=self.tokenizer.pad_token_id\n",
    "        )\n",
    "        labels = torch.nn.utils.rnn.pad_sequence(labels, batch_first=True, padding_value=self.IGNORE_INDEX)\n",
    "        ### END YOUR CODE ###\n",
    "\n",
    "        return dict(\n",
    "            input_ids=input_ids,\n",
    "            labels=labels,\n",
    "        )"
   ]
  },
  {
   "cell_type": "code",
   "execution_count": 9,
   "id": "f2cf38b6",
   "metadata": {},
   "outputs": [
    {
     "name": "stdout",
     "output_type": "stream",
     "text": [
      "torch.Size([2, 107])\n",
      "torch.Size([2, 107])\n"
     ]
    }
   ],
   "source": [
    "# Test \n",
    "data_collator = DataCollatorForSupervisedDataset(tokenizer)\n",
    "\n",
    "test_dataloader = DataLoader(dataset, batch_size=2, collate_fn=data_collator)\n",
    "for batch in test_dataloader:\n",
    "    print(batch['input_ids'].shape)\n",
    "    print(batch['labels'].shape)\n",
    "    break\n",
    "\n",
    "# You expect to see the following output:\n",
    "# torch.Size([2, 107])\n",
    "# torch.Size([2, 107])"
   ]
  },
  {
   "cell_type": "markdown",
   "id": "10f48f32",
   "metadata": {},
   "source": [
    "We can see that the input_ids and labels within the same batch are now of the same length.\n",
    "\n",
    "---"
   ]
  },
  {
   "cell_type": "markdown",
   "id": "c52c9171",
   "metadata": {},
   "source": [
    "Finally, we can assemble the above components and run instruction tuning with a PyTrorch Trainer.\n",
    "\n",
    "The following code should be ready to go in a standalone script."
   ]
  },
  {
   "cell_type": "code",
   "execution_count": null,
   "id": "f8c3eb5e",
   "metadata": {},
   "outputs": [],
   "source": [
    "model = AutoModelForCausalLM.from_pretrained(args.model_name_or_path)\n",
    "\n",
    "kwargs = dict(\n",
    "        model=model,\n",
    "        args=args,\n",
    "        tokenizer=tokenizer,\n",
    "        train_dataset=SFTDataset(args, tokenizer),\n",
    "        data_collator=DataCollatorForSupervisedDataset(tokenizer),\n",
    "    )\n",
    "\n",
    "trainer = Trainer(**kwargs)\n",
    "trainer.train()\n",
    "trainer.save_model(args.output_dir + \"/checkpoint-final\")\n",
    "trainer.save_state()"
   ]
  }
 ],
 "metadata": {
  "kernelspec": {
   "display_name": "py310",
   "language": "python",
   "name": "python3"
  },
  "language_info": {
   "codemirror_mode": {
    "name": "ipython",
    "version": 3
   },
   "file_extension": ".py",
   "mimetype": "text/x-python",
   "name": "python",
   "nbconvert_exporter": "python",
   "pygments_lexer": "ipython3",
   "version": "3.10.14"
  }
 },
 "nbformat": 4,
 "nbformat_minor": 5
}
